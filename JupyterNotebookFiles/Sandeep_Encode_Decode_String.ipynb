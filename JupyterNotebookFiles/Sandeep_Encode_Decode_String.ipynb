{
 "cells": [
  {
   "cell_type": "markdown",
   "id": "108c7096-6f01-4e83-9cdf-48529f713317",
   "metadata": {},
   "source": [
    "# Encode & Decode String"
   ]
  },
  {
   "cell_type": "code",
   "execution_count": 3,
   "id": "4194c0bb-0bea-4e80-8fc2-870afa25dd68",
   "metadata": {},
   "outputs": [],
   "source": [
    "# Write a python function that will encode a string like 'AAAAABBBBBCCCCCDDD' and return a list of tuples: [('A',5),('B',5),('C',5),('D',3)]\n",
    "def encodeString(stringVal):\n",
    "    encoded = []\n",
    "    previous_char = stringVal[0]\n",
    "    count = 1\n",
    "\n",
    "    for current_char in stringVal[1:]:\n",
    "        if current_char == previous_char:\n",
    "            count += 1\n",
    "        else:\n",
    "            encoded.append((previous_char, count))\n",
    "            previous_char = current_char\n",
    "            count = 1\n",
    "\n",
    "    encoded.append((previous_char, count))\n",
    "    return(encoded)\n",
    "\n",
    "def decodeString(encodedList):\n",
    "   decoded = ''\n",
    "   for char, count in encodedList:\n",
    "        decoded += char * count\n",
    "   return decoded\n"
   ]
  },
  {
   "cell_type": "code",
   "execution_count": null,
   "id": "1c62b735-e2c6-4664-922d-5114d3e83b0e",
   "metadata": {},
   "outputs": [],
   "source": []
  }
 ],
 "metadata": {
  "kernelspec": {
   "display_name": "Python 3 (ipykernel)",
   "language": "python",
   "name": "python3"
  },
  "language_info": {
   "codemirror_mode": {
    "name": "ipython",
    "version": 3
   },
   "file_extension": ".py",
   "mimetype": "text/x-python",
   "name": "python",
   "nbconvert_exporter": "python",
   "pygments_lexer": "ipython3",
   "version": "3.13.3"
  }
 },
 "nbformat": 4,
 "nbformat_minor": 5
}
