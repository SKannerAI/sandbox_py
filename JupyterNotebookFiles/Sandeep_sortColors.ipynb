{
 "cells": [
  {
   "cell_type": "markdown",
   "id": "38151163-e15c-4f07-8c1f-735ae65133db",
   "metadata": {},
   "source": [
    "# Sort Colors"
   ]
  },
  {
   "cell_type": "code",
   "execution_count": 6,
   "id": "8f517eff-aa11-4301-81a7-b9ec66a9abf5",
   "metadata": {},
   "outputs": [
    {
     "name": "stdout",
     "output_type": "stream",
     "text": [
      "[0, 0, 1, 1, 2, 2]\n"
     ]
    }
   ],
   "source": [
    "from typing import List\n",
    "\n",
    "class Solution:\n",
    "    def sortColors(self, nums: List[int]):\n",
    "        counts = [0,0,0]\n",
    "\n",
    "        for color in nums:\n",
    "            counts[color] += 1\n",
    "\n",
    "        R, W, B = counts\n",
    "\n",
    "        nums[:R] = [0] * R\n",
    "        nums[R:R+W] = [1] * W\n",
    "        nums[R+W:] = [2] * B\n",
    "\n",
    "    # instantiate the class\n",
    "sol = Solution()\n",
    "\n",
    "# input list\n",
    "colors = [2, 0, 2, 1, 1, 0]\n",
    "\n",
    "# invoke the method\n",
    "sol.sortColors(colors)\n",
    "\n",
    "print(colors)  # Output: [0, 0, 1, 1, 2, 2]"
   ]
  },
  {
   "cell_type": "code",
   "execution_count": null,
   "id": "220de721-87bc-4e8d-bf19-0d4e6e3955db",
   "metadata": {},
   "outputs": [],
   "source": []
  }
 ],
 "metadata": {
  "kernelspec": {
   "display_name": "Python 3 (ipykernel)",
   "language": "python",
   "name": "python3"
  },
  "language_info": {
   "codemirror_mode": {
    "name": "ipython",
    "version": 3
   },
   "file_extension": ".py",
   "mimetype": "text/x-python",
   "name": "python",
   "nbconvert_exporter": "python",
   "pygments_lexer": "ipython3",
   "version": "3.13.3"
  }
 },
 "nbformat": 4,
 "nbformat_minor": 5
}
