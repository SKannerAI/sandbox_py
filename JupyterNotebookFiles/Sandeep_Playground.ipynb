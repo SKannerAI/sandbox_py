{
 "cells": [
  {
   "cell_type": "markdown",
   "id": "4abc864b-5f4a-46ab-8e2d-b07b4c73a068",
   "metadata": {},
   "source": [
    "# Sandbox"
   ]
  },
  {
   "cell_type": "code",
   "execution_count": 2,
   "id": "f01ab31a-1da3-4ebc-bcf6-1b96c7973d8b",
   "metadata": {},
   "outputs": [
    {
     "name": "stdout",
     "output_type": "stream",
     "text": [
      "[1, 2, 3]\n"
     ]
    }
   ],
   "source": [
    "a = [1,2,3]\n",
    "b = a\n",
    "a = [4,5,6]\n",
    "\n",
    "print(b)"
   ]
  },
  {
   "cell_type": "code",
   "execution_count": 3,
   "id": "e834657b-790f-4abc-ac0a-73a4336cb914",
   "metadata": {},
   "outputs": [
    {
     "name": "stdout",
     "output_type": "stream",
     "text": [
      "this is true\n",
      "second statement\n",
      "Nested If block\n",
      "this is the default block\n"
     ]
    }
   ],
   "source": [
    "a = True\n",
    "b = True\n",
    "if a:\n",
    "    print('this is true')\n",
    "    print('second statement')\n",
    "    if b:\n",
    "        print('Nested If block')\n",
    "else:\n",
    "    print('in the else block')\n",
    "print('this is the default block')"
   ]
  },
  {
   "cell_type": "code",
   "execution_count": 4,
   "id": "713d3aeb-0d34-419f-9ff8-e56cd8616098",
   "metadata": {},
   "outputs": [
    {
     "name": "stdout",
     "output_type": "stream",
     "text": [
      "1\n",
      "2\n",
      "3\n",
      "4\n",
      "5\n",
      "6\n"
     ]
    }
   ],
   "source": [
    "a = [1,2,3,4,5,6]\n",
    "for item in a:\n",
    "    print(item)"
   ]
  },
  {
   "cell_type": "code",
   "execution_count": 8,
   "id": "6d79a60f-efd9-4a85-9a52-e59bf536a6b5",
   "metadata": {},
   "outputs": [
    {
     "data": {
      "text/plain": [
       "True"
      ]
     },
     "execution_count": 8,
     "metadata": {},
     "output_type": "execute_result"
    }
   ],
   "source": [
    "5 in a"
   ]
  },
  {
   "cell_type": "code",
   "execution_count": 12,
   "id": "c6899928-6ead-4e2b-b85e-5051c8f2799e",
   "metadata": {},
   "outputs": [],
   "source": [
    "def factorial(num):\n",
    "    # Your code goes here.\n",
    "    if(type(num) != int or (num < 0)):\n",
    "        return None\n",
    "    else:\n",
    "        temp = 0\n",
    "        fact = 1\n",
    "        while(num > 1):\n",
    "                    temp = (num * (num - 1))\n",
    "                    num = num - 2\n",
    "                    fact = temp * fact\n",
    "        return fact\n",
    "pass"
   ]
  },
  {
   "cell_type": "code",
   "execution_count": 13,
   "id": "96c958ab-716b-484a-a463-4d9f9fbec016",
   "metadata": {},
   "outputs": [
    {
     "data": {
      "text/plain": [
       "120"
      ]
     },
     "execution_count": 13,
     "metadata": {},
     "output_type": "execute_result"
    }
   ],
   "source": [
    "factorial(5)"
   ]
  },
  {
   "cell_type": "code",
   "execution_count": null,
   "id": "ffe7e5c0-22a2-4e53-8333-4e6f7bf97aa3",
   "metadata": {},
   "outputs": [],
   "source": [
    "factorial(6)"
   ]
  },
  {
   "cell_type": "code",
   "execution_count": null,
   "id": "9435b329-70b2-4888-abbd-30f82aa457d4",
   "metadata": {},
   "outputs": [],
   "source": [
    "print(factorial(\"spam\"))"
   ]
  },
  {
   "cell_type": "code",
   "execution_count": null,
   "id": "816032bf-79bc-46b0-ad93-8c3fee743ce8",
   "metadata": {},
   "outputs": [],
   "source": [
    "a = [1,2,3]\n",
    "b = a\n",
    "print(b)\n",
    "a.append(5)\n",
    "print(b)\n",
    "a = [5,6,7,8]\n",
    "print(b)"
   ]
  },
  {
   "cell_type": "code",
   "execution_count": 14,
   "id": "e6023deb-b620-448c-ad45-c1d703038299",
   "metadata": {},
   "outputs": [],
   "source": [
    "animals = { 'a': 'antelope',\n",
    "          'b': 'buffalo',\n",
    "          'c': 'cat',}"
   ]
  },
  {
   "cell_type": "code",
   "execution_count": 15,
   "id": "a7ccf431-fcdb-4d10-b63b-73637639253d",
   "metadata": {},
   "outputs": [
    {
     "data": {
      "text/plain": [
       "'antelope'"
      ]
     },
     "execution_count": 15,
     "metadata": {},
     "output_type": "execute_result"
    }
   ],
   "source": [
    "animals['a']"
   ]
  },
  {
   "cell_type": "code",
   "execution_count": 16,
   "id": "9f289c71-ee56-4478-aced-91d52ef67943",
   "metadata": {},
   "outputs": [
    {
     "name": "stdout",
     "output_type": "stream",
     "text": [
      "{'a': 'antelope', 'b': 'buffalo', 'c': 'cat', 'd': 'donkey'}\n"
     ]
    }
   ],
   "source": [
    "animals['d'] = 'donkey'\n",
    "print(animals)"
   ]
  },
  {
   "cell_type": "code",
   "execution_count": 17,
   "id": "9b497d5a-e904-4e50-aedf-7e35cf8e1765",
   "metadata": {},
   "outputs": [
    {
     "data": {
      "text/plain": [
       "dict_keys(['a', 'b', 'c', 'd'])"
      ]
     },
     "execution_count": 17,
     "metadata": {},
     "output_type": "execute_result"
    }
   ],
   "source": [
    "animals.keys()"
   ]
  },
  {
   "cell_type": "code",
   "execution_count": 18,
   "id": "6ed4e6da-ab4c-4fa7-b537-05562c210892",
   "metadata": {},
   "outputs": [
    {
     "data": {
      "text/plain": [
       "dict_values(['antelope', 'buffalo', 'cat', 'donkey'])"
      ]
     },
     "execution_count": 18,
     "metadata": {},
     "output_type": "execute_result"
    }
   ],
   "source": [
    "animals.values()"
   ]
  },
  {
   "cell_type": "code",
   "execution_count": 19,
   "id": "db192e10-9cc7-4251-8d7e-279b49f31fcb",
   "metadata": {},
   "outputs": [
    {
     "data": {
      "text/plain": [
       "['antelope', 'buffalo', 'cat', 'donkey']"
      ]
     },
     "execution_count": 19,
     "metadata": {},
     "output_type": "execute_result"
    }
   ],
   "source": [
    "list(animals.values())"
   ]
  },
  {
   "cell_type": "code",
   "execution_count": 20,
   "id": "1eee54b9-0614-4d7a-9ff4-2890f4fdd02b",
   "metadata": {},
   "outputs": [],
   "source": [
    "mylist = list(range(10))"
   ]
  },
  {
   "cell_type": "code",
   "execution_count": 21,
   "id": "14a4c56d-9990-4606-a4ac-48fe2807c0b5",
   "metadata": {},
   "outputs": [
    {
     "data": {
      "text/plain": [
       "[0, 2, 4, 6, 8, 10, 12, 14, 16, 18]"
      ]
     },
     "execution_count": 21,
     "metadata": {},
     "output_type": "execute_result"
    }
   ],
   "source": [
    "[2 * item for item in mylist]"
   ]
  },
  {
   "cell_type": "code",
   "execution_count": null,
   "id": "a5c64f5d-176d-4b75-86c4-fdf3f356eae1",
   "metadata": {},
   "outputs": [],
   "source": [
    "[item for item in mylist if item <15]"
   ]
  },
  {
   "cell_type": "code",
   "execution_count": 22,
   "id": "b7e434f6-204f-4a9c-b11a-d590c2471a25",
   "metadata": {},
   "outputs": [],
   "source": [
    "myString = 'My name is Sandeep Kanparthy. I am learning Python programming'"
   ]
  },
  {
   "cell_type": "code",
   "execution_count": 23,
   "id": "3cf8ba26-4bde-47fd-9684-38ff31bc7202",
   "metadata": {},
   "outputs": [
    {
     "data": {
      "text/plain": [
       "['My',\n",
       " 'name',\n",
       " 'is',\n",
       " 'Sandeep',\n",
       " 'Kanparthy.',\n",
       " 'I',\n",
       " 'am',\n",
       " 'learning',\n",
       " 'Python',\n",
       " 'programming']"
      ]
     },
     "execution_count": 23,
     "metadata": {},
     "output_type": "execute_result"
    }
   ],
   "source": [
    "myString.split()"
   ]
  },
  {
   "cell_type": "code",
   "execution_count": 24,
   "id": "ec7573f0-e2a1-4448-b999-4a3eec922f82",
   "metadata": {},
   "outputs": [
    {
     "data": {
      "text/plain": [
       "['my',\n",
       " 'name',\n",
       " 'is',\n",
       " 'sandeep',\n",
       " 'kanparthy',\n",
       " 'i',\n",
       " 'am',\n",
       " 'learning',\n",
       " 'python',\n",
       " 'programming']"
      ]
     },
     "execution_count": 24,
     "metadata": {},
     "output_type": "execute_result"
    }
   ],
   "source": [
    "def cleanWords(word):\n",
    "    return word.replace('.','').lower()\n",
    "\n",
    "[cleanWords(word) for word in myString.split()]"
   ]
  },
  {
   "cell_type": "code",
   "execution_count": null,
   "id": "014133f6-12c7-44c3-ad42-d0f418d5bb89",
   "metadata": {},
   "outputs": [],
   "source": [
    "[cleanWords(word) for word in myString.split() if len(cleanWords(word)) < 4]"
   ]
  },
  {
   "cell_type": "code",
   "execution_count": null,
   "id": "5fb4333b-e8fb-43b1-af46-38734852b7b8",
   "metadata": {},
   "outputs": [],
   "source": [
    "[cleanWords(word) for word in myString.split() if len(word) < 10]"
   ]
  },
  {
   "cell_type": "code",
   "execution_count": null,
   "id": "0d33de54-7f53-4d61-ab07-83b27677ddd9",
   "metadata": {},
   "outputs": [],
   "source": [
    "[[cleanWords(word) for word in sentence.split() if len(word) < 15]for sentence in myString.split('.')]"
   ]
  },
  {
   "cell_type": "code",
   "execution_count": 25,
   "id": "d1f05217-ed41-417d-91c2-5287b41cf35c",
   "metadata": {},
   "outputs": [],
   "source": [
    "animalList = [('a','antelope'), ('b','buffalo'), ('c','cat')]"
   ]
  },
  {
   "cell_type": "code",
   "execution_count": 26,
   "id": "bf0e0cd0-0847-4441-ab4a-382928df7c25",
   "metadata": {},
   "outputs": [
    {
     "data": {
      "text/plain": [
       "{'a': 'antelope', 'b': 'buffalo', 'c': 'cat'}"
      ]
     },
     "execution_count": 26,
     "metadata": {},
     "output_type": "execute_result"
    }
   ],
   "source": [
    "animals = {item[0]:item[1] for item in animalList}\n",
    "animals"
   ]
  },
  {
   "cell_type": "code",
   "execution_count": 27,
   "id": "ccb32566-12f4-41de-bae0-c9caaa09847d",
   "metadata": {},
   "outputs": [
    {
     "data": {
      "text/plain": [
       "dict_items([('a', 'antelope'), ('b', 'buffalo'), ('c', 'cat')])"
      ]
     },
     "execution_count": 27,
     "metadata": {},
     "output_type": "execute_result"
    }
   ],
   "source": [
    "animals = {key: value for key,value in animalList}\n",
    "animals.items()"
   ]
  },
  {
   "cell_type": "code",
   "execution_count": null,
   "id": "8e081bf3-2ffb-418c-b3e5-21ff66ea5aa0",
   "metadata": {},
   "outputs": [],
   "source": [
    "animalkv = [{'key = ': key,'value = ': value} for key, value in animals.items()]\n",
    "animalkv"
   ]
  },
  {
   "cell_type": "code",
   "execution_count": null,
   "id": "4cab4f44-14af-4cc3-9dac-6b5ffd7f1743",
   "metadata": {},
   "outputs": [],
   "source": [
    "def encodeString(s):\n",
    "    encoded = []\n",
    "    previous_char = s[0]\n",
    "    count = 1\n",
    "\n",
    "    for current_char in s[1:]:\n",
    "        if current_char == previous_char:\n",
    "            count += 1\n",
    "        else:\n",
    "            encoded.append((previous_char, count))\n",
    "            previous_char = current_char\n",
    "            count = 1\n",
    "\n",
    "    encoded.append((previous_char, count))\n",
    "    print(encoded)"
   ]
  },
  {
   "cell_type": "code",
   "execution_count": null,
   "id": "ff7cb144-8ba4-4eab-afa2-6bc5364ae254",
   "metadata": {},
   "outputs": [],
   "source": [
    "encodeString('AAAAABBBBBCCCCCDDD')"
   ]
  },
  {
   "cell_type": "code",
   "execution_count": null,
   "id": "a6f462ea-cc2f-4acb-8134-774245a6b5c2",
   "metadata": {},
   "outputs": [],
   "source": [
    "myList = [('A', 5), ('B', 5), ('C', 5), ('D', 3)]\n",
    "newList = {key: value for key, value in myList}\n",
    "\n",
    "print((newList))\n",
    "print(type(newList))\n",
    "list(newList.items())\n",
    "\n"
   ]
  },
  {
   "cell_type": "code",
   "execution_count": null,
   "id": "59958dd4-63f5-49e4-9ee1-8881c79b2b21",
   "metadata": {},
   "outputs": [],
   "source": [
    "bigList = [{'letter': key, 'name': value} for key, value in newList.items()]\n",
    "print(type(bigList))\n",
    "print((bigList))"
   ]
  },
  {
   "cell_type": "code",
   "execution_count": null,
   "id": "9f2c1a31-17e3-4829-bbc8-636f2697545a",
   "metadata": {},
   "outputs": [],
   "source": [
    "bigList2 = [{'letter': key, 'name': value} for key, value in newList.items()]\n",
    "print((bigList2))\n",
    "blDict = {item['letter']:item['name'] for item in bigList2}\n",
    "print(type(blDict))\n",
    "print((blDict))"
   ]
  },
  {
   "cell_type": "code",
   "execution_count": null,
   "id": "c246acd6-dbc1-4837-a46c-d5e1f41db63e",
   "metadata": {},
   "outputs": [],
   "source": [
    "data = [\n",
    "    {'letter': 'A', 'name': 5},\n",
    "    {'letter': 'B', 'name': 5},\n",
    "    {'letter': 'C', 'name': 5},\n",
    "    {'letter': 'D', 'name': 3}\n",
    "]\n",
    "\n",
    "result = {}\n",
    "for item in data:\n",
    "    key = item['name']\n",
    "    result.setdefault(key, []).append(item['letter'])\n",
    "\n",
    "print(result)\n",
    "print(type(result))"
   ]
  },
  {
   "cell_type": "code",
   "execution_count": null,
   "id": "689a45a9-f61f-4fa4-bda3-b55e172c1805",
   "metadata": {},
   "outputs": [],
   "source": []
  }
 ],
 "metadata": {
  "kernelspec": {
   "display_name": "Python 3 (ipykernel)",
   "language": "python",
   "name": "python3"
  },
  "language_info": {
   "codemirror_mode": {
    "name": "ipython",
    "version": 3
   },
   "file_extension": ".py",
   "mimetype": "text/x-python",
   "name": "python",
   "nbconvert_exporter": "python",
   "pygments_lexer": "ipython3",
   "version": "3.13.3"
  }
 },
 "nbformat": 4,
 "nbformat_minor": 5
}
